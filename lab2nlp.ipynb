{
  "cells": [
    {
      "cell_type": "markdown",
      "metadata": {
        "id": "wUWRnC9yC9a_"
      },
      "source": [
        "# Lab 2"
      ]
    },
    {
      "cell_type": "markdown",
      "metadata": {
        "id": "Zc1U2PpgDdYV"
      },
      "source": [
        "## 1. Load the fetch_20newsgroups dataset and split it into training and test subsets."
      ]
    },
    {
      "cell_type": "code",
      "execution_count": 2,
      "metadata": {
        "colab": {
          "base_uri": "https://localhost:8080/"
        },
        "id": "NpZaZhOkDSYt",
        "outputId": "0aca1906-9449-4429-c4c2-90fc5f58d399"
      },
      "outputs": [
        {
          "output_type": "stream",
          "name": "stderr",
          "text": [
            "[nltk_data] Downloading package stopwords to /root/nltk_data...\n",
            "[nltk_data]   Unzipping corpora/stopwords.zip.\n",
            "[nltk_data] Downloading package punkt to /root/nltk_data...\n",
            "[nltk_data]   Unzipping tokenizers/punkt.zip.\n"
          ]
        }
      ],
      "source": [
        "from sklearn.datasets import fetch_20newsgroups\n",
        "import nltk\n",
        "from nltk.corpus import stopwords\n",
        "from sklearn.feature_extraction.text import CountVectorizer, TfidfVectorizer\n",
        "from sklearn.naive_bayes import MultinomialNB\n",
        "from sklearn.svm import SVC\n",
        "from sklearn.linear_model import LogisticRegression\n",
        "from sklearn.ensemble import RandomForestClassifier\n",
        "from sklearn.metrics import accuracy_score, f1_score, precision_score, recall_score, confusion_matrix\n",
        "import matplotlib.pyplot as plt\n",
        "\n",
        "nltk.download('stopwords')\n",
        "nltk.download('punkt')\n",
        "\n",
        "newsgroups_train = fetch_20newsgroups(subset='train')\n",
        "newsgroups_test = fetch_20newsgroups(subset ='test')"
      ]
    },
    {
      "cell_type": "markdown",
      "metadata": {
        "id": "8I7OtShWDmtU"
      },
      "source": [
        "## 2. Text preprocessing"
      ]
    },
    {
      "cell_type": "code",
      "execution_count": 3,
      "metadata": {
        "id": "zb2Cg8fwDuUg"
      },
      "outputs": [],
      "source": [
        "def preprocess_texts(texts : list[str]) -> list[str]:\n",
        "    '''\n",
        "    Remove all stopwords, remove non-letter words, lowercase.\n",
        "    '''\n",
        "    filtered = []\n",
        "    for text in texts:\n",
        "        temp = []\n",
        "        for word in nltk.tokenize.word_tokenize(text):\n",
        "            if word.lower() not in stopwords.words('english') and word.isalpha():\n",
        "                temp.append(word.lower())\n",
        "\n",
        "        filtered.append(\" \".join(temp))\n",
        "    return filtered\n",
        "\n",
        "def stem_texts(texts : list[str]):\n",
        "    '''\n",
        "    Stem all words in texts.\\n\\nAccepts already tokenized texts.\n",
        "    '''\n",
        "    stemmed = []\n",
        "    stemmer = nltk.SnowballStemmer(\"english\")\n",
        "\n",
        "    for text in texts:\n",
        "        temp = []\n",
        "        for word in nltk.tokenize.word_tokenize(text):\n",
        "            temp.append(stemmer.stem(word))\n",
        "\n",
        "        stemmed.append(\" \".join(temp))\n",
        "    return stemmed\n",
        "\n",
        "\n",
        "newsgroups_train['preprocessed_data'] = preprocess_texts(newsgroups_train.data)\n",
        "newsgroups_test['preprocessed_data'] = preprocess_texts(newsgroups_test.data)\n",
        "\n",
        "newsgroups_train['stemmed_data'] = stem_texts(newsgroups_train['preprocessed_data'])\n",
        "newsgroups_test['stemmed_data'] = stem_texts(newsgroups_test['preprocessed_data'])"
      ]
    },
    {
      "cell_type": "markdown",
      "source": [
        "## 3. Vectorizers\n"
      ],
      "metadata": {
        "id": "g-XCo65zICU-"
      }
    },
    {
      "cell_type": "code",
      "source": [
        "def vectorize_data(vectorizer, train_data, test_data):\n",
        "    '''\n",
        "    Fits vectorizer and vectorizes data.\n",
        "\n",
        "    Returns: Vectorized train data, vectorized test data.\n",
        "    '''\n",
        "    vec_train = vectorizer.fit_transform(train_data)\n",
        "    vec_test = vectorizer.transform(test_data)\n",
        "    return vec_train, vec_test\n",
        "\n",
        "\n",
        "'''\n",
        "Count Vectorizer\n",
        "'''\n",
        "\n",
        "# raw texts\n",
        "raw_text_count_train, raw_text_count_test = vectorize_data(\n",
        "    CountVectorizer(),\n",
        "    newsgroups_train.data,\n",
        "    newsgroups_test.data)\n",
        "\n",
        "# preprocessed texts excluding stemming\n",
        "preprocessed_count_train, preprocessed_count_test = vectorize_data(\n",
        "    CountVectorizer(),\n",
        "    newsgroups_train['preprocessed_data'],\n",
        "    newsgroups_test['preprocessed_data'])\n",
        "\n",
        "# preprocessed texts including stemming\n",
        "stemmed_count_train, stemmed_count_test = vectorize_data(\n",
        "    CountVectorizer(),\n",
        "    newsgroups_train['stemmed_data'],\n",
        "    newsgroups_test['stemmed_data'])\n",
        "\n",
        "# preprocessed texts considering bigrams as well\n",
        "stemmed_bigram_count_train, stemmed_bigram_count_test = vectorize_data(\n",
        "    CountVectorizer(ngram_range=(1,2)),\n",
        "    newsgroups_train['stemmed_data'],\n",
        "    newsgroups_test['stemmed_data'])\n",
        "\n",
        "'''\n",
        "Tf-idf Vectorizer\n",
        "'''\n",
        "\n",
        "# raw texts\n",
        "raw_text_tfidf_train, raw_text_tfidf_test = vectorize_data(\n",
        "    TfidfVectorizer(),\n",
        "    newsgroups_train.data,\n",
        "    newsgroups_test.data)\n",
        "\n",
        "# preprocessed texts excluding stemming\n",
        "preprocessed_tfidf_train, preprocessed_tfidf_test = vectorize_data(\n",
        "    TfidfVectorizer(),\n",
        "    newsgroups_train['preprocessed_data'],\n",
        "    newsgroups_test['preprocessed_data'])\n",
        "\n",
        "# preprocessed texts including stemming\n",
        "stemmed_tfidf_train, stemmed_tfidf_test = vectorize_data(\n",
        "    TfidfVectorizer(),\n",
        "    newsgroups_train['stemmed_data'],\n",
        "    newsgroups_test['stemmed_data'])\n",
        "\n",
        "# preprocessed texts considering bigrams as well\n",
        "stemmed_bigram_tfidf_train, stemmed_bigram_tfidf_test = vectorize_data(\n",
        "    TfidfVectorizer(ngram_range=(1,2)),\n",
        "    newsgroups_train['stemmed_data'],\n",
        "    newsgroups_test['stemmed_data'])"
      ],
      "metadata": {
        "id": "oL4__E2pIFrH"
      },
      "execution_count": 4,
      "outputs": []
    },
    {
      "cell_type": "markdown",
      "source": [
        "## 4. Questions"
      ],
      "metadata": {
        "id": "Oi8pmRdNJRmR"
      }
    },
    {
      "cell_type": "markdown",
      "source": [
        "### How many instances do training and test subsets of the fetch_20newsgroups dataset contain separately?"
      ],
      "metadata": {
        "id": "pxjcXt_PLEL1"
      }
    },
    {
      "cell_type": "code",
      "source": [
        "print(\"The training subset has \", len(newsgroups_train.data), \" instances.\")\n",
        "print(\"The test subset has \", len(newsgroups_test.data), \" instances.\")"
      ],
      "metadata": {
        "colab": {
          "base_uri": "https://localhost:8080/"
        },
        "id": "l595TzRRLw8P",
        "outputId": "c0ab3a72-d0ac-49ad-8b16-a820a9451e4c"
      },
      "execution_count": 42,
      "outputs": [
        {
          "output_type": "stream",
          "name": "stdout",
          "text": [
            "The training subset has  11314  instances.\n",
            "The test subset has  7532  instances.\n"
          ]
        }
      ]
    },
    {
      "cell_type": "markdown",
      "source": [
        "### How many classes are there for the articles in the dataset, and what are the names of these classes?"
      ],
      "metadata": {
        "id": "Z5lQyVn7MMU9"
      }
    },
    {
      "cell_type": "code",
      "source": [
        "print(\"There are \", len(newsgroups_test.target_names), \" different classes.\")\n",
        "\n",
        "for name in newsgroups_test.target_names:\n",
        "    print(name)"
      ],
      "metadata": {
        "colab": {
          "base_uri": "https://localhost:8080/"
        },
        "id": "EO_2AqbzMOec",
        "outputId": "bed8ed27-29b2-411f-f3c1-c81534ba6eed"
      },
      "execution_count": 43,
      "outputs": [
        {
          "output_type": "stream",
          "name": "stdout",
          "text": [
            "There are  20  different classes.\n",
            "alt.atheism\n",
            "comp.graphics\n",
            "comp.os.ms-windows.misc\n",
            "comp.sys.ibm.pc.hardware\n",
            "comp.sys.mac.hardware\n",
            "comp.windows.x\n",
            "misc.forsale\n",
            "rec.autos\n",
            "rec.motorcycles\n",
            "rec.sport.baseball\n",
            "rec.sport.hockey\n",
            "sci.crypt\n",
            "sci.electronics\n",
            "sci.med\n",
            "sci.space\n",
            "soc.religion.christian\n",
            "talk.politics.guns\n",
            "talk.politics.mideast\n",
            "talk.politics.misc\n",
            "talk.religion.misc\n"
          ]
        }
      ]
    },
    {
      "cell_type": "markdown",
      "source": [
        "### How does the dimension of the CountVector vary based on different preprocessing approaches?\n"
      ],
      "metadata": {
        "id": "DKBEQpmgMoC4"
      }
    },
    {
      "cell_type": "code",
      "source": [
        "print(\"Dimension of count vector for raw text: \", raw_text_count_train.shape[1])\n",
        "print(\"Dimension of count vector for preprocessed data: \", preprocessed_count_train.shape[1])\n",
        "print(\"Dimension of count vector for stemmed data: \", stemmed_count_train.shape[1])\n",
        "print(\"Dimension of count vector for stemmed data considering bigrams: \", stemmed_bigram_count_train.shape[1])"
      ],
      "metadata": {
        "colab": {
          "base_uri": "https://localhost:8080/"
        },
        "id": "IEDP-YzsMtry",
        "outputId": "ee0ba6d9-5556-4bf4-cee4-74afe7c26f40"
      },
      "execution_count": 44,
      "outputs": [
        {
          "output_type": "stream",
          "name": "stdout",
          "text": [
            "Dimension of count vector for raw text:  130107\n",
            "Dimension of count vector for preprocessed data:  73078\n",
            "Dimension of count vector for stemmed data:  54944\n",
            "Dimension of count vector for stemmed data considering bigrams:  867347\n"
          ]
        }
      ]
    },
    {
      "cell_type": "markdown",
      "source": [
        "The more preprocessed the text is, the less distinct tokens are there, the smaller the dimention of the vectors.\n",
        "\n",
        "When considering bigrams, dimentionality goes up because of the number of combinations."
      ],
      "metadata": {
        "id": "rdiKMrMSl1kI"
      }
    },
    {
      "cell_type": "markdown",
      "source": [
        "## 5. Classify the texts"
      ],
      "metadata": {
        "id": "Fjd-b_EgRsaj"
      }
    },
    {
      "cell_type": "code",
      "source": [
        "def get_predictions_of_model_on_data(model_class, train_data, test_data, train_target):\n",
        "    '''\n",
        "    Fit a model with vectorized data and get predictions.\n",
        "    '''\n",
        "    model = model_class.fit(train_data, train_target)\n",
        "    return model.predict(test_data)"
      ],
      "metadata": {
        "id": "S6egYGTdWV8E"
      },
      "execution_count": 5,
      "outputs": []
    },
    {
      "cell_type": "markdown",
      "source": [
        "Train each model on each type of preprocessing and vectorizer, let the model classify the test data and save the predictions in a `results_dict`"
      ],
      "metadata": {
        "id": "EawX-X8QWHOH"
      }
    },
    {
      "cell_type": "code",
      "source": [
        "results_dict = {}\n",
        "for classifier, name in [(MultinomialNB(), \"Naive Bayes\"), (SVC(), \"SVC\"), (LogisticRegression(), \"Regression\"), (RandomForestClassifier(), \"Random Forest\")]:\n",
        "    print(\"Training\", name)\n",
        "    temp = {}\n",
        "\n",
        "    # raw texts\n",
        "    temp[\"raw texts count\"] = get_predictions_of_model_on_data(classifier,\n",
        "                                                 raw_text_count_train,\n",
        "                                                 raw_text_count_test,\n",
        "                                                 newsgroups_train.target)\n",
        "\n",
        "    temp[\"raw texts tfidf\"] = get_predictions_of_model_on_data(classifier,\n",
        "                                                 raw_text_tfidf_train,\n",
        "                                                 raw_text_tfidf_test,\n",
        "                                                 newsgroups_train.target)\n",
        "\n",
        "    # preprocessed texts excluding stemming\n",
        "    temp[\"preprocessed texts count\"] = get_predictions_of_model_on_data(classifier,\n",
        "                                                 preprocessed_count_train,\n",
        "                                                 preprocessed_count_test,\n",
        "                                                 newsgroups_train.target)\n",
        "\n",
        "    temp[\"preprocessed texts tfidf\"] = get_predictions_of_model_on_data(classifier,\n",
        "                                                 preprocessed_tfidf_train,\n",
        "                                                 preprocessed_tfidf_test,\n",
        "                                                 newsgroups_train.target)\n",
        "\n",
        "    # preprocessed texts including stemming\n",
        "    temp[\"stemmed texts count\"] = get_predictions_of_model_on_data(classifier,\n",
        "                                                 stemmed_count_train,\n",
        "                                                 stemmed_count_test,\n",
        "                                                 newsgroups_train.target)\n",
        "\n",
        "    temp[\"stemmed texts tfidf\"] = get_predictions_of_model_on_data(classifier,\n",
        "                                                 stemmed_tfidf_train,\n",
        "                                                 stemmed_tfidf_test,\n",
        "                                                 newsgroups_train.target)\n",
        "\n",
        "    # preprocessed texts considering bigrams as well\n",
        "    temp[\"stemmed bigram texts count\"] = get_predictions_of_model_on_data(classifier,\n",
        "                                                 stemmed_bigram_count_train,\n",
        "                                                 stemmed_bigram_count_test,\n",
        "                                                 newsgroups_train.target)\n",
        "\n",
        "    temp[\"stemmed bigram texts tfidf\"] = get_predictions_of_model_on_data(classifier,\n",
        "                                                 stemmed_bigram_tfidf_train,\n",
        "                                                 stemmed_bigram_tfidf_test,\n",
        "                                                 newsgroups_train.target)\n",
        "\n",
        "    results_dict[name] = temp"
      ],
      "metadata": {
        "id": "BbnczcWPlfyL"
      },
      "execution_count": null,
      "outputs": []
    },
    {
      "cell_type": "markdown",
      "source": [
        "## 6. Evaluate using multiple metrics"
      ],
      "metadata": {
        "id": "-DzcN6ZDctCo"
      }
    },
    {
      "cell_type": "code",
      "source": [
        "for method in results_dict:\n",
        "    print(method)\n",
        "    print(\"\\naccuracy:\")\n",
        "    for preprocessing in results_dict[method]:\n",
        "        print(preprocessing, accuracy_score(newsgroups_test.target, results_dict[method][preprocessing]))\n",
        "\n",
        "    print(\"\\nf1_score:\")\n",
        "    for preprocessing in results_dict[method]:\n",
        "        print(preprocessing, f1_score(newsgroups_test.target, results_dict[method][preprocessing], average=\"weighted\"))\n",
        "\n",
        "    print(\"\\nprecision:\")\n",
        "    for preprocessing in results_dict[method]:\n",
        "        print(preprocessing, precision_score(newsgroups_test.target, results_dict[method][preprocessing], average=\"weighted\"))\n",
        "\n",
        "    print(\"\\nrecall:\")\n",
        "    for preprocessing in results_dict[method]:\n",
        "        print(preprocessing, recall_score(newsgroups_test.target, results_dict[method][preprocessing], average=\"weighted\"))"
      ],
      "metadata": {
        "colab": {
          "base_uri": "https://localhost:8080/"
        },
        "id": "f_wS5Nj3XItu",
        "outputId": "e83de14e-3936-4c46-cfbc-895c181dc228"
      },
      "execution_count": 46,
      "outputs": [
        {
          "output_type": "stream",
          "name": "stdout",
          "text": [
            "Naive Bayes\n",
            "\n",
            "accuracy:\n",
            "raw texts count 0.7728359001593202\n",
            "raw texts tfidf 0.7738980350504514\n",
            "preprocessed texts count 0.8147902283590016\n",
            "preprocessed texts tfidf 0.8090812533191716\n",
            "stemmed texts count 0.8035050451407328\n",
            "stemmed texts tfidf 0.8036378120021243\n",
            "stemmed bigram texts count 0.8098778544875199\n",
            "stemmed bigram texts tfidf 0.8169144981412639\n",
            "\n",
            "f1_score:\n",
            "raw texts count 0.7511127577441177\n",
            "raw texts tfidf 0.7684457156894653\n",
            "preprocessed texts count 0.8091838550449055\n",
            "preprocessed texts tfidf 0.8019006806034267\n",
            "stemmed texts count 0.7952600019609147\n",
            "stemmed texts tfidf 0.7956027121157477\n",
            "stemmed bigram texts count 0.8047717132078135\n",
            "stemmed bigram texts tfidf 0.8104140121558414\n",
            "\n",
            "precision:\n",
            "raw texts count 0.7616683207318354\n",
            "raw texts tfidf 0.8218781741893993\n",
            "preprocessed texts count 0.8267221353663584\n",
            "preprocessed texts tfidf 0.8371801820381521\n",
            "stemmed texts count 0.8180376442726979\n",
            "stemmed texts tfidf 0.8342875141222853\n",
            "stemmed bigram texts count 0.8259120635209778\n",
            "stemmed bigram texts tfidf 0.8381756914860746\n",
            "\n",
            "recall:\n",
            "raw texts count 0.7728359001593202\n",
            "raw texts tfidf 0.7738980350504514\n",
            "preprocessed texts count 0.8147902283590016\n",
            "preprocessed texts tfidf 0.8090812533191716\n",
            "stemmed texts count 0.8035050451407328\n",
            "stemmed texts tfidf 0.8036378120021243\n",
            "stemmed bigram texts count 0.8098778544875199\n",
            "stemmed bigram texts tfidf 0.8169144981412639\n",
            "SVC\n",
            "\n",
            "accuracy:\n",
            "raw texts count 0.15108868826340946\n",
            "raw texts tfidf 0.8186404673393521\n",
            "preprocessed texts count 0.6812267657992565\n",
            "preprocessed texts tfidf 0.8203664365374402\n",
            "stemmed texts count 0.6949017525225704\n",
            "stemmed texts tfidf 0.8199681359532661\n",
            "stemmed bigram texts count 0.6865374402549124\n",
            "stemmed bigram texts tfidf 0.8230217737652682\n",
            "\n",
            "f1_score:\n",
            "raw texts count 0.137243819157177\n",
            "raw texts tfidf 0.8190868537587032\n",
            "preprocessed texts count 0.6946980171540693\n",
            "preprocessed texts tfidf 0.821007569856839\n",
            "stemmed texts count 0.7004357724784672\n",
            "stemmed texts tfidf 0.8203890091464641\n",
            "stemmed bigram texts count 0.6951136956374109\n",
            "stemmed bigram texts tfidf 0.8232377081717388\n",
            "\n",
            "precision:\n",
            "raw texts count 0.42191640757596965\n",
            "raw texts tfidf 0.8293601659114187\n",
            "preprocessed texts count 0.7486584066498635\n",
            "preprocessed texts tfidf 0.8335437244436114\n",
            "stemmed texts count 0.7387123521930778\n",
            "stemmed texts tfidf 0.8304145735728876\n",
            "stemmed bigram texts count 0.7475758108149568\n",
            "stemmed bigram texts tfidf 0.8368385566383851\n",
            "\n",
            "recall:\n",
            "raw texts count 0.15108868826340946\n",
            "raw texts tfidf 0.8186404673393521\n",
            "preprocessed texts count 0.6812267657992565\n",
            "preprocessed texts tfidf 0.8203664365374402\n",
            "stemmed texts count 0.6949017525225704\n",
            "stemmed texts tfidf 0.8199681359532661\n",
            "stemmed bigram texts count 0.6865374402549124\n",
            "stemmed bigram texts tfidf 0.8230217737652682\n",
            "Regression\n",
            "\n",
            "accuracy:\n",
            "raw texts count 0.7892989909718534\n",
            "raw texts tfidf 0.8274030801911842\n",
            "preprocessed texts count 0.7882368560807222\n",
            "preprocessed texts tfidf 0.8266064790228359\n",
            "stemmed texts count 0.7859798194370685\n",
            "stemmed texts tfidf 0.8238183749336165\n",
            "stemmed bigram texts count 0.8060276155071694\n",
            "stemmed bigram texts tfidf 0.828996282527881\n",
            "\n",
            "f1_score:\n",
            "raw texts count 0.7885050573077783\n",
            "raw texts tfidf 0.8257218194818299\n",
            "preprocessed texts count 0.7882743310555875\n",
            "preprocessed texts tfidf 0.8251279298059621\n",
            "stemmed texts count 0.785989255466463\n",
            "stemmed texts tfidf 0.8224013186489373\n",
            "stemmed bigram texts count 0.8056794561550035\n",
            "stemmed bigram texts tfidf 0.8273396758486636\n",
            "\n",
            "precision:\n",
            "raw texts count 0.793171232182615\n",
            "raw texts tfidf 0.8306575949769146\n",
            "preprocessed texts count 0.7929613373013767\n",
            "preprocessed texts tfidf 0.8307157256154403\n",
            "stemmed texts count 0.7899530149476869\n"
          ]
        },
        {
          "output_type": "stream",
          "name": "stderr",
          "text": [
            "/usr/local/lib/python3.10/dist-packages/sklearn/metrics/_classification.py:1344: UndefinedMetricWarning: Precision is ill-defined and being set to 0.0 in labels with no predicted samples. Use `zero_division` parameter to control this behavior.\n",
            "  _warn_prf(average, modifier, msg_start, len(result))\n"
          ]
        },
        {
          "output_type": "stream",
          "name": "stdout",
          "text": [
            "stemmed texts tfidf 0.8270476956033173\n",
            "stemmed bigram texts count 0.8101888218083144\n",
            "stemmed bigram texts tfidf 0.8352319135628984\n",
            "\n",
            "recall:\n",
            "raw texts count 0.7892989909718534\n",
            "raw texts tfidf 0.8274030801911842\n",
            "preprocessed texts count 0.7882368560807222\n",
            "preprocessed texts tfidf 0.8266064790228359\n",
            "stemmed texts count 0.7859798194370685\n",
            "stemmed texts tfidf 0.8238183749336165\n",
            "stemmed bigram texts count 0.8060276155071694\n",
            "stemmed bigram texts tfidf 0.828996282527881\n",
            "Random Forest\n",
            "\n",
            "accuracy:\n",
            "raw texts count 0.7634094530005311\n",
            "raw texts tfidf 0.7632766861391397\n",
            "preprocessed texts count 0.7646043547530537\n",
            "preprocessed texts tfidf 0.7558417419012214\n",
            "stemmed texts count 0.7579660116834838\n",
            "stemmed texts tfidf 0.7590281465746149\n",
            "stemmed bigram texts count 0.7738980350504514\n",
            "stemmed bigram texts tfidf 0.7708443972384493\n",
            "\n",
            "f1_score:\n",
            "raw texts count 0.7580805859262573\n",
            "raw texts tfidf 0.7574100609173702\n",
            "preprocessed texts count 0.7608021068324565\n",
            "preprocessed texts tfidf 0.7508867634523942\n",
            "stemmed texts count 0.7538081382423497\n",
            "stemmed texts tfidf 0.754624747835952\n",
            "stemmed bigram texts count 0.7712776722902094\n",
            "stemmed bigram texts tfidf 0.7680483320123999\n",
            "\n",
            "precision:\n",
            "raw texts count 0.773647020129597\n",
            "raw texts tfidf 0.7730665546564046\n",
            "preprocessed texts count 0.774516481336767\n",
            "preprocessed texts tfidf 0.7625820494144877\n",
            "stemmed texts count 0.7683565620600574\n",
            "stemmed texts tfidf 0.7695927148217405\n",
            "stemmed bigram texts count 0.7908852618362442\n",
            "stemmed bigram texts tfidf 0.7856574180761926\n",
            "\n",
            "recall:\n",
            "raw texts count 0.7634094530005311\n",
            "raw texts tfidf 0.7632766861391397\n",
            "preprocessed texts count 0.7646043547530537\n",
            "preprocessed texts tfidf 0.7558417419012214\n",
            "stemmed texts count 0.7579660116834838\n",
            "stemmed texts tfidf 0.7590281465746149\n",
            "stemmed bigram texts count 0.7738980350504514\n",
            "stemmed bigram texts tfidf 0.7708443972384493\n"
          ]
        }
      ]
    },
    {
      "cell_type": "markdown",
      "source": [
        "## 7. Questions"
      ],
      "metadata": {
        "id": "OmG8v09wc0BL"
      }
    },
    {
      "cell_type": "markdown",
      "source": [
        "### Which preprocessing approach and vector representation combination yields the best results in terms of classification accuracy?\n",
        "\n",
        "The best result I got, after training all the selected models with both vector representations on different kinds of preprocessing is **0.828996282527881** in terms of accuracy.\n",
        "\n",
        "I achieved it with **Logistic Regression trained on preprocessed texts including stemming, using tf-idf vectorizer that considers both bigrams and unigrams**"
      ],
      "metadata": {
        "id": "FI9viWrGc54M"
      }
    },
    {
      "cell_type": "markdown",
      "source": [
        "## 8. Calculate the F1-score using different values of the 'average' and 'labels'"
      ],
      "metadata": {
        "id": "EcsXMW33dSWB"
      }
    },
    {
      "cell_type": "code",
      "source": [
        "best_model_predictions = get_predictions_of_model_on_data(LogisticRegression(),\n",
        "                                          stemmed_bigram_tfidf_train,\n",
        "                                          stemmed_bigram_tfidf_test,\n",
        "                                          newsgroups_train.target)"
      ],
      "metadata": {
        "id": "4J7J6_cAUmMM"
      },
      "execution_count": 6,
      "outputs": []
    },
    {
      "cell_type": "code",
      "source": [
        "print(\"accuracy of the model:\", accuracy_score(newsgroups_test.target, best_model_predictions))\n",
        "\n",
        "print(\"average='micro', labels='None':\", f1_score(newsgroups_test.target, best_model_predictions, average='micro', labels='None'))\n",
        "print(\"average='micro':\", f1_score(newsgroups_test.target, best_model_predictions, average='micro'))\n",
        "\n",
        "print(\"average='macro', labels='None':\", f1_score(newsgroups_test.target, best_model_predictions, average='macro', labels='None'))\n",
        "print(\"average='macro':\", f1_score(newsgroups_test.target, best_model_predictions, average='macro'))\n",
        "\n",
        "print(\"average='weighted', labels='None':\", f1_score(newsgroups_test.target, best_model_predictions, average='weighted', labels='None'))\n",
        "print(\"average='weighted':\", f1_score(newsgroups_test.target, best_model_predictions, average='weighted'))\n",
        "\n",
        "print(\"average='weighted', labels=[1,2,3,4,5]:\", f1_score(newsgroups_test.target, best_model_predictions, average='weighted', labels=[1,2,3,4,5]))"
      ],
      "metadata": {
        "id": "j1Q8-DpAVJuF"
      },
      "execution_count": null,
      "outputs": []
    },
    {
      "cell_type": "markdown",
      "source": [
        "accuracy of the model: 0.828996282527881\n",
        "\n",
        "average='micro', labels='None': 0.7249999999999999\n",
        "\n",
        "average='micro': 0.828996282527881\n",
        "\n",
        "average='macro', labels='None': 0.5438401661406774\n",
        "\n",
        "average='macro': 0.820492544745689\n",
        "\n",
        "average='weighted', labels='None': 0.7253317849988162\n",
        "\n",
        "average='weighted': 0.8273396758486636\n",
        "\n",
        "average='weighted', labels=[1,2,3,4,5]: 0.7579099812567712"
      ],
      "metadata": {
        "id": "iHcrLKE3hlrX"
      }
    },
    {
      "cell_type": "markdown",
      "source": [
        "## 9. Generate a confusion matrix"
      ],
      "metadata": {
        "id": "3Ypk_cRedhuG"
      }
    },
    {
      "cell_type": "code",
      "source": [
        "conf_matrix = confusion_matrix(newsgroups_test.target, best_model_predictions)\n",
        "\n",
        "fig, ax = plt.subplots(figsize=(7.5, 7.5))\n",
        "ax.matshow(conf_matrix, cmap=plt.cm.Blues, alpha=0.5)\n",
        "for i in range(conf_matrix.shape[0]):\n",
        "    for j in range(conf_matrix.shape[1]):\n",
        "        ax.text(x=j, y=i,s=conf_matrix[i, j], va='center', ha='center')\n",
        "\n",
        "plt.xlabel('Predictions', fontsize=18)\n",
        "plt.ylabel('True', fontsize=18)\n",
        "plt.title('Confusion Matrix', fontsize=18)\n",
        "plt.show()"
      ],
      "metadata": {
        "colab": {
          "base_uri": "https://localhost:8080/",
          "height": 699
        },
        "id": "PMWzE0OPjU9E",
        "outputId": "19c2484e-b846-46fb-a8b8-287f0816340a"
      },
      "execution_count": 22,
      "outputs": [
        {
          "output_type": "display_data",
          "data": {
            "text/plain": [
              "<Figure size 750x750 with 1 Axes>"
            ],
            "image/png": "[encoded data removed]"
          },
          "metadata": {}
        }
      ]
    },
    {
      "cell_type": "markdown",
      "source": [
        "## 10. Questions"
      ],
      "metadata": {
        "id": "cPq7AytIdpFy"
      }
    },
    {
      "cell_type": "markdown",
      "source": [
        "### What do micro, macro, or weighted values of the 'average' parameter of the F1-score allow you to set?\n",
        "\n",
        "How the average is computed.\n",
        "- Micro\n",
        "  - Calculate metrics globally by counting the total true positives, false negatives and false positives.\n",
        "- Macro\n",
        "  - Calculate metrics for each label, and find their unweighted mean. This does not take label imbalance into account.\n",
        "- weighted\n",
        "  - Calculate metrics for each label, and find their average weighted by support (the number of true instances for each label). This alters ‘macro’ to account for label imbalance; it can result in an F-score that is not between precision and recall.\n",
        "\n",
        "from: https://scikit-learn.org/stable/modules/generated/sklearn.metrics.f1_score.html"
      ],
      "metadata": {
        "id": "IbzSs2zidtid"
      }
    },
    {
      "cell_type": "markdown",
      "source": [
        "### What are the classes where the classification model tends to perform poorly or make the most mistakes?\n"
      ],
      "metadata": {
        "id": "cWA2U_v8ey1p"
      }
    },
    {
      "cell_type": "markdown",
      "source": [
        "As we can see from the confusion matrix, class `18` (`talk.politics.misc`) is being often classified as class `16` (`talk.politics.guns`), with 97 instances of class `18` (`talk.politics.misc`) ending up with the label `16` (`talk.politics.guns`)."
      ],
      "metadata": {
        "id": "yboUox4ui7vi"
      }
    },
    {
      "cell_type": "markdown",
      "source": [
        "Another problematic class is class `19` (`talk.religion.misc`), which is being classified as `15` (`soc.religion.christian`) with 61 mislabeled instances and as `0` (`alt.atheism`) with 32 mislabeled instances."
      ],
      "metadata": {
        "id": "Bz-8OFJli9DF"
      }
    },
    {
      "cell_type": "markdown",
      "source": [
        "There is also quite a big confusion between classes `1` to `5`, being the topics of `comp.graphics`, `comp.os.ms-windows.misc`, `comp.sys.ibm.pc.hardware`, `comp.sys.mac.hardware` and `comp.windows.x`."
      ],
      "metadata": {
        "id": "gk6Y-AWdkikF"
      }
    }
  ],
  "metadata": {
    "colab": {
      "provenance": [],
      "toc_visible": true,
      "collapsed_sections": [
        "g-XCo65zICU-",
        "pxjcXt_PLEL1",
        "Z5lQyVn7MMU9",
        "OmG8v09wc0BL"
      ]
    },
    "kernelspec": {
      "display_name": "Python 3",
      "name": "python3"
    }
  },
  "nbformat": 4,
  "nbformat_minor": 0
}